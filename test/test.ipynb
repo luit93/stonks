{
 "cells": [
  {
   "cell_type": "code",
   "execution_count": 1,
   "source": [
    "import datetime\n",
    "import logging\n",
    "logging.basicConfig(level=logging.DEBUG)"
   ],
   "outputs": [],
   "metadata": {}
  },
  {
   "cell_type": "code",
   "execution_count": 2,
   "source": [
    "from pynse import *\n",
    "\n",
    "\n",
    "nse=Nse()"
   ],
   "outputs": [
    {
     "output_type": "stream",
     "name": "stderr",
     "text": [
      "DEBUG:pynse.core:First run.\n",
      "Creating folders and downloading symbol files\n",
      "DEBUG:pynse.core:copying symbol list for All\n",
      "DEBUG:pynse.core:copying symbol list for FnO\n",
      "DEBUG:pynse.core:copying symbol list for Nifty50\n",
      "DEBUG:pynse.core:copying symbol list for NiftyNext50\n",
      "DEBUG:pynse.core:copying symbol list for Nifty100\n",
      "DEBUG:pynse.core:copying symbol list for Nifty200\n",
      "DEBUG:pynse.core:copying symbol list for Nifty500\n",
      "DEBUG:pynse.core:copying symbol list for NiftyMidcap50\n",
      "DEBUG:pynse.core:copying symbol list for NiftyMidcap100\n",
      "DEBUG:pynse.core:copying symbol list for NiftySmlcap100\n",
      "DEBUG:pynse.core:copying symbol list for NiftyMidcap150\n",
      "DEBUG:pynse.core:copying symbol list for NiftySmlcap50\n",
      "DEBUG:pynse.core:copying symbol list for NiftySmlcap250\n",
      "DEBUG:pynse.core:copying symbol list for NiftyMidsml400\n",
      "DEBUG:pynse.core:copying symbol list for NiftyBank\n",
      "DEBUG:pynse.core:copying symbol list for NiftyAuto\n",
      "DEBUG:pynse.core:copying symbol list for NiftyFinService\n",
      "DEBUG:pynse.core:copying symbol list for NiftyFmcg\n",
      "DEBUG:pynse.core:copying symbol list for NiftyIt\n",
      "DEBUG:pynse.core:copying symbol list for NiftyMedia\n",
      "DEBUG:pynse.core:copying symbol list for NiftyMetal\n",
      "DEBUG:pynse.core:copying symbol list for NiftyPharma\n",
      "DEBUG:pynse.core:copying symbol list for NiftyPsuBank\n",
      "DEBUG:pynse.core:copying symbol list for NiftyPvtBank\n",
      "DEBUG:pynse.core:copying symbol list for NiftyRealty\n",
      "DEBUG:pynse.core:copying symbol list for Nifty50Value20\n",
      "DEBUG:pynse.core:copying symbol list for NiftyAlpha50\n",
      "DEBUG:pynse.core:copying symbol list for Nifty50EqlWgt\n",
      "DEBUG:pynse.core:copying symbol list for Nifty100EqlWgt\n",
      "DEBUG:pynse.core:copying symbol list for Nifty100Lowvol30\n",
      "DEBUG:pynse.core:copying symbol list for Nifty200Qualty30\n",
      "DEBUG:pynse.core:copying symbol list for NiftyCommodities\n",
      "DEBUG:pynse.core:copying symbol list for NiftyConsumption\n",
      "DEBUG:pynse.core:copying symbol list for NiftyEnergy\n",
      "DEBUG:pynse.core:copying symbol list for NiftyInfra\n",
      "DEBUG:pynse.core:copying symbol list for NiftyMnc\n",
      "DEBUG:pynse.core:copying symbol list for NiftyPse\n",
      "DEBUG:pynse.core:copying symbol list for NiftyServSector\n",
      "INFO:pynse.core:pyNse cache size: (43.79, 'KB').\n",
      "You may want to run `nse.clear_data()` if running low on disk space.\n"
     ]
    }
   ],
   "metadata": {}
  },
  {
   "cell_type": "code",
   "execution_count": 3,
   "source": [
    "nse.market_status()"
   ],
   "outputs": [
    {
     "output_type": "stream",
     "name": "stderr",
     "text": [
      "INFO:pynse.core:downloading market status\n",
      "DEBUG:urllib3.connectionpool:Starting new HTTPS connection (1): www.nseindia.com:443\n",
      "DEBUG:urllib3.connectionpool:https://www.nseindia.com:443 \"GET / HTTP/1.1\" 200 40954\n",
      "DEBUG:urllib3.connectionpool:https://www.nseindia.com:443 \"GET /api/marketStatus HTTP/1.1\" 200 245\n"
     ]
    },
    {
     "output_type": "execute_result",
     "data": {
      "text/plain": [
       "{'marketState': [{'market': 'Capital Market',\n",
       "   'marketStatus': 'Closed',\n",
       "   'tradeDate': '11-Oct-2021',\n",
       "   'index': 'NIFTY 50',\n",
       "   'last': 17895.2,\n",
       "   'variation': 104.85000000000218,\n",
       "   'percentChange': 0.59,\n",
       "   'marketStatusMessage': 'Normal Market has Closed'},\n",
       "  {'market': 'Currency',\n",
       "   'marketStatus': 'Closed',\n",
       "   'tradeDate': '11-Oct-2021',\n",
       "   'index': '',\n",
       "   'last': '',\n",
       "   'variation': '',\n",
       "   'percentChange': '',\n",
       "   'marketStatusMessage': 'Market is Closed'},\n",
       "  {'market': 'Commodity',\n",
       "   'marketStatus': 'Open',\n",
       "   'tradeDate': '08-Oct-2021',\n",
       "   'index': '',\n",
       "   'last': '',\n",
       "   'variation': '',\n",
       "   'percentChange': '',\n",
       "   'marketStatusMessage': 'Market is Open'},\n",
       "  {'market': 'Debt',\n",
       "   'marketStatus': 'Closed',\n",
       "   'tradeDate': '11-Oct-2021',\n",
       "   'index': '',\n",
       "   'last': '',\n",
       "   'variation': '',\n",
       "   'percentChange': '',\n",
       "   'marketStatusMessage': 'Market is Closed'}]}"
      ]
     },
     "metadata": {},
     "execution_count": 3
    }
   ],
   "metadata": {}
  },
  {
   "cell_type": "code",
   "execution_count": 4,
   "source": [
    "nse.info('SBIN')"
   ],
   "outputs": [
    {
     "output_type": "stream",
     "name": "stderr",
     "text": [
      "INFO:pynse.core:downloading symbol info for SBIN\n",
      "DEBUG:urllib3.connectionpool:Starting new HTTPS connection (1): www.nseindia.com:443\n",
      "DEBUG:urllib3.connectionpool:https://www.nseindia.com:443 \"GET / HTTP/1.1\" 200 40952\n",
      "DEBUG:urllib3.connectionpool:https://www.nseindia.com:443 \"GET /api/equity-meta-info?symbol=SBIN HTTP/1.1\" 200 209\n"
     ]
    },
    {
     "output_type": "execute_result",
     "data": {
      "text/plain": [
       "{'symbol': 'SBIN',\n",
       " 'companyName': 'State Bank of India',\n",
       " 'industry': 'BANKS',\n",
       " 'activeSeries': ['EQ'],\n",
       " 'debtSeries': [],\n",
       " 'tempSuspendedSeries': ['IL', 'N1', 'N2', 'N3', 'N4', 'N5', 'N6'],\n",
       " 'isFNOSec': True,\n",
       " 'isCASec': False,\n",
       " 'isSLBSec': True,\n",
       " 'isDebtSec': False,\n",
       " 'isSuspended': False,\n",
       " 'isETFSec': False,\n",
       " 'isDelisted': False,\n",
       " 'isin': 'INE062A08066'}"
      ]
     },
     "metadata": {},
     "execution_count": 4
    }
   ],
   "metadata": {}
  },
  {
   "cell_type": "code",
   "execution_count": 5,
   "source": [
    "nse.get_quote('TCS')"
   ],
   "outputs": [
    {
     "output_type": "stream",
     "name": "stderr",
     "text": [
      "INFO:pynse.core:downloading quote for TCS EQ\n",
      "DEBUG:urllib3.connectionpool:Starting new HTTPS connection (1): www.nseindia.com:443\n",
      "DEBUG:urllib3.connectionpool:https://www.nseindia.com:443 \"GET / HTTP/1.1\" 200 40959\n",
      "DEBUG:urllib3.connectionpool:https://www.nseindia.com:443 \"GET /api/quote-equity?symbol=TCS HTTP/1.1\" 200 882\n",
      "DEBUG:urllib3.connectionpool:Starting new HTTPS connection (1): www.nseindia.com:443\n",
      "DEBUG:urllib3.connectionpool:https://www.nseindia.com:443 \"GET / HTTP/1.1\" 200 40960\n",
      "DEBUG:urllib3.connectionpool:https://www.nseindia.com:443 \"GET /api/quote-equity?symbol=TCS&section=trade_info HTTP/1.1\" 200 415\n"
     ]
    },
    {
     "output_type": "execute_result",
     "data": {
      "text/plain": [
       "{'lastPrice': 3943,\n",
       " 'change': 50.09999999999991,\n",
       " 'pChange': 1.2869583087158651,\n",
       " 'previousClose': 3892.9,\n",
       " 'open': 3925,\n",
       " 'close': 3935.65,\n",
       " 'vwap': 3947.83,\n",
       " 'lowerCP': '3503.65',\n",
       " 'upperCP': '4282.15',\n",
       " 'pPriceBand': 'No Band',\n",
       " 'basePrice': 3892.9,\n",
       " 'intraDayHighLow': {'min': 3900, 'max': 3989.9, 'value': 3943},\n",
       " 'weekHighLow': {'min': 2600.05,\n",
       "  'minDate': '02-Nov-2020',\n",
       "  'max': 3989.9,\n",
       "  'maxDate': '08-Oct-2021',\n",
       "  'value': 3943},\n",
       " 'timestamp': datetime.datetime(2021, 10, 8, 16, 0),\n",
       " 'series': 'EQ',\n",
       " 'symbol': 'TCS',\n",
       " 'quantityTraded': 2934339,\n",
       " 'deliveryQuantity': 1040830,\n",
       " 'deliveryToTradedQuantity': 35.47,\n",
       " 'seriesRemarks': None,\n",
       " 'secWiseDelPosDate': '08-OCT-2021 EOD',\n",
       " 'low': 3900,\n",
       " 'high': 3989.9}"
      ]
     },
     "metadata": {},
     "execution_count": 5
    }
   ],
   "metadata": {}
  },
  {
   "cell_type": "code",
   "execution_count": 7,
   "source": [
    "nse.get_quote('TCS',Segment.FUT)"
   ],
   "outputs": [
    {
     "output_type": "stream",
     "name": "stderr",
     "text": [
      "INFO:pynse.core:downloading quote for TCS FUT\n",
      "DEBUG:urllib3.connectionpool:Starting new HTTPS connection (1): www.nseindia.com:443\n",
      "DEBUG:urllib3.connectionpool:https://www.nseindia.com:443 \"GET / HTTP/1.1\" 200 40935\n",
      "DEBUG:urllib3.connectionpool:https://www.nseindia.com:443 \"GET /api/quote-derivative?symbol=TCS HTTP/1.1\" 200 33504\n"
     ]
    },
    {
     "output_type": "execute_result",
     "data": {
      "text/plain": [
       "{'timestamp': datetime.datetime(2021, 10, 8, 15, 30, 1),\n",
       " 'tradedVolume': 20094,\n",
       " 'value': 237356.16,\n",
       " 'vmap': 3937.43,\n",
       " 'premiumTurnover': 237356.15526,\n",
       " 'openInterest': 27324,\n",
       " 'changeinOpenInterest': 31,\n",
       " 'pchangeinOpenInterest': 0.1135822372036786,\n",
       " 'marketLot': 300,\n",
       " 'instrumentType': 'Stock Futures',\n",
       " 'expiryDate': datetime.date(2021, 10, 28),\n",
       " 'optionType': '-',\n",
       " 'strikePrice': 0,\n",
       " 'identifier': 'FUTSTKTCS28-10-2021XX0.00',\n",
       " 'openPrice': 3915,\n",
       " 'highPrice': 3982,\n",
       " 'lowPrice': 3885.95,\n",
       " 'closePrice': 3924.25,\n",
       " 'prevClose': 3885.9,\n",
       " 'lastPrice': 3929,\n",
       " 'change': 43.09999999999991,\n",
       " 'pChange': 1.1091381661905841,\n",
       " 'numberOfContractsTraded': 20094,\n",
       " 'totalTurnover': 237356.16}"
      ]
     },
     "metadata": {},
     "execution_count": 7
    }
   ],
   "metadata": {}
  },
  {
   "cell_type": "code",
   "execution_count": 9,
   "source": [
    "nse.expiry_list"
   ],
   "outputs": [
    {
     "output_type": "execute_result",
     "data": {
      "text/plain": [
       "[datetime.date(2021, 10, 28),\n",
       " datetime.date(2021, 11, 25),\n",
       " datetime.date(2021, 12, 30)]"
      ]
     },
     "metadata": {},
     "execution_count": 9
    }
   ],
   "metadata": {}
  },
  {
   "cell_type": "code",
   "execution_count": 10,
   "source": [
    "nse.get_quote('TCS',Segment.FUT,datetime.date(2021, 11, 25))"
   ],
   "outputs": [
    {
     "output_type": "stream",
     "name": "stderr",
     "text": [
      "INFO:pynse.core:downloading quote for TCS FUT\n",
      "DEBUG:urllib3.connectionpool:Starting new HTTPS connection (1): www.nseindia.com:443\n",
      "DEBUG:urllib3.connectionpool:https://www.nseindia.com:443 \"GET / HTTP/1.1\" 200 41000\n",
      "DEBUG:urllib3.connectionpool:https://www.nseindia.com:443 \"GET /api/quote-derivative?symbol=TCS HTTP/1.1\" 200 33489\n"
     ]
    },
    {
     "output_type": "execute_result",
     "data": {
      "text/plain": [
       "{'timestamp': datetime.datetime(2021, 10, 8, 15, 30, 1),\n",
       " 'tradedVolume': 896,\n",
       " 'value': 10627.22,\n",
       " 'vmap': 3953.58,\n",
       " 'premiumTurnover': 10627.22304,\n",
       " 'openInterest': 539,\n",
       " 'changeinOpenInterest': 92,\n",
       " 'pchangeinOpenInterest': 20.58165548098434,\n",
       " 'marketLot': 300,\n",
       " 'instrumentType': 'Stock Futures',\n",
       " 'expiryDate': datetime.date(2021, 11, 25),\n",
       " 'optionType': '-',\n",
       " 'strikePrice': 0,\n",
       " 'identifier': 'FUTSTKTCS25-11-2021XX0.00',\n",
       " 'openPrice': 3930.8,\n",
       " 'highPrice': 3996.4,\n",
       " 'lowPrice': 3901.3,\n",
       " 'closePrice': 3938.4,\n",
       " 'prevClose': 3899.1,\n",
       " 'lastPrice': 3944.2,\n",
       " 'change': 45.09999999999991,\n",
       " 'pChange': 1.1566771819137727,\n",
       " 'numberOfContractsTraded': 896,\n",
       " 'totalTurnover': 10627.22}"
      ]
     },
     "metadata": {},
     "execution_count": 10
    }
   ],
   "metadata": {}
  },
  {
   "cell_type": "code",
   "execution_count": 11,
   "source": [
    "nse.expiry_list"
   ],
   "outputs": [
    {
     "output_type": "execute_result",
     "data": {
      "text/plain": [
       "[datetime.date(2021, 10, 28),\n",
       " datetime.date(2021, 11, 25),\n",
       " datetime.date(2021, 12, 30)]"
      ]
     },
     "metadata": {},
     "execution_count": 11
    }
   ],
   "metadata": {}
  },
  {
   "cell_type": "code",
   "execution_count": 12,
   "source": [
    "nse.get_quote('NIFTY',Segment.OPT)"
   ],
   "outputs": [
    {
     "output_type": "stream",
     "name": "stderr",
     "text": [
      "INFO:pynse.core:downloading quote for NIFTY OPT\n",
      "DEBUG:urllib3.connectionpool:Starting new HTTPS connection (1): www.nseindia.com:443\n",
      "DEBUG:urllib3.connectionpool:https://www.nseindia.com:443 \"GET / HTTP/1.1\" 200 40998\n",
      "DEBUG:urllib3.connectionpool:https://www.nseindia.com:443 \"GET /api/quote-derivative?symbol=NIFTY HTTP/1.1\" 200 None\n"
     ]
    },
    {
     "output_type": "execute_result",
     "data": {
      "text/plain": [
       "{'timestamp': datetime.datetime(2021, 10, 8, 15, 30, 11),\n",
       " 'tradedVolume': 0,\n",
       " 'value': 0,\n",
       " 'vmap': 0,\n",
       " 'premiumTurnover': 0,\n",
       " 'openInterest': 10,\n",
       " 'changeinOpenInterest': 0,\n",
       " 'pchangeinOpenInterest': 0,\n",
       " 'marketLot': 50,\n",
       " 'settlementPrice': 0,\n",
       " 'dailyvolatility': 1.2,\n",
       " 'annualisedVolatility': 22.89,\n",
       " 'impliedVolatility': 0,\n",
       " 'clientWisePositionLimits': 0,\n",
       " 'marketWidePositionLimits': 0,\n",
       " 'instrumentType': 'Index Options',\n",
       " 'expiryDate': datetime.date(2021, 10, 14),\n",
       " 'optionType': 'Call',\n",
       " 'strikePrice': 14850,\n",
       " 'identifier': 'OPTIDXNIFTY14-10-2021CE14850.00',\n",
       " 'openPrice': 0,\n",
       " 'highPrice': 0,\n",
       " 'lowPrice': 0,\n",
       " 'closePrice': 2924,\n",
       " 'prevClose': 2924,\n",
       " 'lastPrice': 2924,\n",
       " 'change': 0,\n",
       " 'pChange': 0,\n",
       " 'numberOfContractsTraded': 0,\n",
       " 'totalTurnover': 0}"
      ]
     },
     "metadata": {},
     "execution_count": 12
    }
   ],
   "metadata": {}
  },
  {
   "cell_type": "code",
   "execution_count": 13,
   "source": [
    "nse.expiry_list"
   ],
   "outputs": [
    {
     "output_type": "execute_result",
     "data": {
      "text/plain": [
       "[datetime.date(2021, 10, 14),\n",
       " datetime.date(2021, 10, 21),\n",
       " datetime.date(2021, 10, 28),\n",
       " datetime.date(2021, 11, 3),\n",
       " datetime.date(2021, 11, 11),\n",
       " datetime.date(2021, 11, 18),\n",
       " datetime.date(2021, 11, 25),\n",
       " datetime.date(2021, 12, 2),\n",
       " datetime.date(2021, 12, 9),\n",
       " datetime.date(2021, 12, 30),\n",
       " datetime.date(2022, 3, 31),\n",
       " datetime.date(2022, 6, 30),\n",
       " datetime.date(2022, 9, 29),\n",
       " datetime.date(2022, 12, 29),\n",
       " datetime.date(2023, 6, 29),\n",
       " datetime.date(2023, 12, 28),\n",
       " datetime.date(2024, 6, 27),\n",
       " datetime.date(2024, 12, 26),\n",
       " datetime.date(2025, 12, 24),\n",
       " datetime.date(2026, 6, 25)]"
      ]
     },
     "metadata": {},
     "execution_count": 13
    }
   ],
   "metadata": {}
  },
  {
   "cell_type": "code",
   "execution_count": 14,
   "source": [
    "nse.option_chain('TCS')"
   ],
   "outputs": [
    {
     "output_type": "stream",
     "name": "stderr",
     "text": [
      "DEBUG:pynse.core:download option chain\n",
      "DEBUG:urllib3.connectionpool:Starting new HTTPS connection (1): www.nseindia.com:443\n",
      "DEBUG:urllib3.connectionpool:https://www.nseindia.com:443 \"GET / HTTP/1.1\" 200 41022\n",
      "DEBUG:urllib3.connectionpool:https://www.nseindia.com:443 \"GET /api/option-chain-equities?symbol=TCS HTTP/1.1\" 200 18601\n"
     ]
    },
    {
     "output_type": "execute_result",
     "data": {
      "text/html": [
       "<div>\n",
       "<style scoped>\n",
       "    .dataframe tbody tr th:only-of-type {\n",
       "        vertical-align: middle;\n",
       "    }\n",
       "\n",
       "    .dataframe tbody tr th {\n",
       "        vertical-align: top;\n",
       "    }\n",
       "\n",
       "    .dataframe thead th {\n",
       "        text-align: right;\n",
       "    }\n",
       "</style>\n",
       "<table border=\"1\" class=\"dataframe\">\n",
       "  <thead>\n",
       "    <tr style=\"text-align: right;\">\n",
       "      <th></th>\n",
       "      <th>strikePrice</th>\n",
       "      <th>expiryDate</th>\n",
       "      <th>PE.strikePrice</th>\n",
       "      <th>PE.expiryDate</th>\n",
       "      <th>PE.underlying</th>\n",
       "      <th>PE.identifier</th>\n",
       "      <th>PE.openInterest</th>\n",
       "      <th>PE.changeinOpenInterest</th>\n",
       "      <th>PE.pchangeinOpenInterest</th>\n",
       "      <th>PE.totalTradedVolume</th>\n",
       "      <th>...</th>\n",
       "      <th>CE.lastPrice</th>\n",
       "      <th>CE.change</th>\n",
       "      <th>CE.pChange</th>\n",
       "      <th>CE.totalBuyQuantity</th>\n",
       "      <th>CE.totalSellQuantity</th>\n",
       "      <th>CE.bidQty</th>\n",
       "      <th>CE.bidprice</th>\n",
       "      <th>CE.askQty</th>\n",
       "      <th>CE.askPrice</th>\n",
       "      <th>CE.underlyingValue</th>\n",
       "    </tr>\n",
       "  </thead>\n",
       "  <tbody>\n",
       "    <tr>\n",
       "      <th>0</th>\n",
       "      <td>2580</td>\n",
       "      <td>2021-10-28</td>\n",
       "      <td>2580.0</td>\n",
       "      <td>28-Oct-2021</td>\n",
       "      <td>TCS</td>\n",
       "      <td>OPTSTKTCS28-10-2021PE2580.00</td>\n",
       "      <td>0.0</td>\n",
       "      <td>0.0</td>\n",
       "      <td>0.0</td>\n",
       "      <td>0.0</td>\n",
       "      <td>...</td>\n",
       "      <td>0.00</td>\n",
       "      <td>0.00</td>\n",
       "      <td>0.000000</td>\n",
       "      <td>6000.0</td>\n",
       "      <td>6000.0</td>\n",
       "      <td>6000.0</td>\n",
       "      <td>1223.20</td>\n",
       "      <td>6000.0</td>\n",
       "      <td>1471.60</td>\n",
       "      <td>3943.0</td>\n",
       "    </tr>\n",
       "    <tr>\n",
       "      <th>1</th>\n",
       "      <td>2600</td>\n",
       "      <td>2021-10-28</td>\n",
       "      <td>2600.0</td>\n",
       "      <td>28-Oct-2021</td>\n",
       "      <td>TCS</td>\n",
       "      <td>OPTSTKTCS28-10-2021PE2600.00</td>\n",
       "      <td>0.0</td>\n",
       "      <td>0.0</td>\n",
       "      <td>0.0</td>\n",
       "      <td>0.0</td>\n",
       "      <td>...</td>\n",
       "      <td>0.00</td>\n",
       "      <td>0.00</td>\n",
       "      <td>0.000000</td>\n",
       "      <td>6000.0</td>\n",
       "      <td>6000.0</td>\n",
       "      <td>6000.0</td>\n",
       "      <td>1201.60</td>\n",
       "      <td>6000.0</td>\n",
       "      <td>1451.65</td>\n",
       "      <td>3943.0</td>\n",
       "    </tr>\n",
       "    <tr>\n",
       "      <th>2</th>\n",
       "      <td>2620</td>\n",
       "      <td>2021-10-28</td>\n",
       "      <td>NaN</td>\n",
       "      <td>NaN</td>\n",
       "      <td>NaN</td>\n",
       "      <td>NaN</td>\n",
       "      <td>NaN</td>\n",
       "      <td>NaN</td>\n",
       "      <td>NaN</td>\n",
       "      <td>NaN</td>\n",
       "      <td>...</td>\n",
       "      <td>0.00</td>\n",
       "      <td>0.00</td>\n",
       "      <td>0.000000</td>\n",
       "      <td>6000.0</td>\n",
       "      <td>6000.0</td>\n",
       "      <td>6000.0</td>\n",
       "      <td>1185.95</td>\n",
       "      <td>6000.0</td>\n",
       "      <td>1430.00</td>\n",
       "      <td>3943.0</td>\n",
       "    </tr>\n",
       "    <tr>\n",
       "      <th>3</th>\n",
       "      <td>2640</td>\n",
       "      <td>2021-10-28</td>\n",
       "      <td>NaN</td>\n",
       "      <td>NaN</td>\n",
       "      <td>NaN</td>\n",
       "      <td>NaN</td>\n",
       "      <td>NaN</td>\n",
       "      <td>NaN</td>\n",
       "      <td>NaN</td>\n",
       "      <td>NaN</td>\n",
       "      <td>...</td>\n",
       "      <td>0.00</td>\n",
       "      <td>0.00</td>\n",
       "      <td>0.000000</td>\n",
       "      <td>6000.0</td>\n",
       "      <td>6000.0</td>\n",
       "      <td>6000.0</td>\n",
       "      <td>1166.95</td>\n",
       "      <td>6000.0</td>\n",
       "      <td>1409.35</td>\n",
       "      <td>3943.0</td>\n",
       "    </tr>\n",
       "    <tr>\n",
       "      <th>4</th>\n",
       "      <td>2660</td>\n",
       "      <td>2021-10-28</td>\n",
       "      <td>NaN</td>\n",
       "      <td>NaN</td>\n",
       "      <td>NaN</td>\n",
       "      <td>NaN</td>\n",
       "      <td>NaN</td>\n",
       "      <td>NaN</td>\n",
       "      <td>NaN</td>\n",
       "      <td>NaN</td>\n",
       "      <td>...</td>\n",
       "      <td>0.00</td>\n",
       "      <td>0.00</td>\n",
       "      <td>0.000000</td>\n",
       "      <td>6000.0</td>\n",
       "      <td>6000.0</td>\n",
       "      <td>6000.0</td>\n",
       "      <td>1168.40</td>\n",
       "      <td>6000.0</td>\n",
       "      <td>1386.40</td>\n",
       "      <td>3943.0</td>\n",
       "    </tr>\n",
       "    <tr>\n",
       "      <th>...</th>\n",
       "      <td>...</td>\n",
       "      <td>...</td>\n",
       "      <td>...</td>\n",
       "      <td>...</td>\n",
       "      <td>...</td>\n",
       "      <td>...</td>\n",
       "      <td>...</td>\n",
       "      <td>...</td>\n",
       "      <td>...</td>\n",
       "      <td>...</td>\n",
       "      <td>...</td>\n",
       "      <td>...</td>\n",
       "      <td>...</td>\n",
       "      <td>...</td>\n",
       "      <td>...</td>\n",
       "      <td>...</td>\n",
       "      <td>...</td>\n",
       "      <td>...</td>\n",
       "      <td>...</td>\n",
       "      <td>...</td>\n",
       "      <td>...</td>\n",
       "    </tr>\n",
       "    <tr>\n",
       "      <th>167</th>\n",
       "      <td>4280</td>\n",
       "      <td>2021-10-28</td>\n",
       "      <td>4280.0</td>\n",
       "      <td>28-Oct-2021</td>\n",
       "      <td>TCS</td>\n",
       "      <td>OPTSTKTCS28-10-2021PE4280.00</td>\n",
       "      <td>0.0</td>\n",
       "      <td>0.0</td>\n",
       "      <td>0.0</td>\n",
       "      <td>0.0</td>\n",
       "      <td>...</td>\n",
       "      <td>23.90</td>\n",
       "      <td>6.10</td>\n",
       "      <td>34.269663</td>\n",
       "      <td>31200.0</td>\n",
       "      <td>6900.0</td>\n",
       "      <td>300.0</td>\n",
       "      <td>23.55</td>\n",
       "      <td>300.0</td>\n",
       "      <td>24.95</td>\n",
       "      <td>3943.0</td>\n",
       "    </tr>\n",
       "    <tr>\n",
       "      <th>169</th>\n",
       "      <td>4300</td>\n",
       "      <td>2021-10-28</td>\n",
       "      <td>4300.0</td>\n",
       "      <td>28-Oct-2021</td>\n",
       "      <td>TCS</td>\n",
       "      <td>OPTSTKTCS28-10-2021PE4300.00</td>\n",
       "      <td>0.0</td>\n",
       "      <td>0.0</td>\n",
       "      <td>0.0</td>\n",
       "      <td>0.0</td>\n",
       "      <td>...</td>\n",
       "      <td>21.65</td>\n",
       "      <td>-0.40</td>\n",
       "      <td>-1.814059</td>\n",
       "      <td>134700.0</td>\n",
       "      <td>124800.0</td>\n",
       "      <td>300.0</td>\n",
       "      <td>21.50</td>\n",
       "      <td>300.0</td>\n",
       "      <td>21.65</td>\n",
       "      <td>3943.0</td>\n",
       "    </tr>\n",
       "    <tr>\n",
       "      <th>172</th>\n",
       "      <td>4320</td>\n",
       "      <td>2021-10-28</td>\n",
       "      <td>4320.0</td>\n",
       "      <td>28-Oct-2021</td>\n",
       "      <td>TCS</td>\n",
       "      <td>OPTSTKTCS28-10-2021PE4320.00</td>\n",
       "      <td>0.0</td>\n",
       "      <td>0.0</td>\n",
       "      <td>0.0</td>\n",
       "      <td>0.0</td>\n",
       "      <td>...</td>\n",
       "      <td>19.05</td>\n",
       "      <td>-1.25</td>\n",
       "      <td>-6.157635</td>\n",
       "      <td>34500.0</td>\n",
       "      <td>21900.0</td>\n",
       "      <td>300.0</td>\n",
       "      <td>19.00</td>\n",
       "      <td>300.0</td>\n",
       "      <td>20.45</td>\n",
       "      <td>3943.0</td>\n",
       "    </tr>\n",
       "    <tr>\n",
       "      <th>174</th>\n",
       "      <td>4340</td>\n",
       "      <td>2021-10-28</td>\n",
       "      <td>4340.0</td>\n",
       "      <td>28-Oct-2021</td>\n",
       "      <td>TCS</td>\n",
       "      <td>OPTSTKTCS28-10-2021PE4340.00</td>\n",
       "      <td>0.0</td>\n",
       "      <td>0.0</td>\n",
       "      <td>0.0</td>\n",
       "      <td>0.0</td>\n",
       "      <td>...</td>\n",
       "      <td>18.55</td>\n",
       "      <td>-0.05</td>\n",
       "      <td>-0.268817</td>\n",
       "      <td>45300.0</td>\n",
       "      <td>31200.0</td>\n",
       "      <td>300.0</td>\n",
       "      <td>17.60</td>\n",
       "      <td>300.0</td>\n",
       "      <td>18.60</td>\n",
       "      <td>3943.0</td>\n",
       "    </tr>\n",
       "    <tr>\n",
       "      <th>176</th>\n",
       "      <td>4360</td>\n",
       "      <td>2021-10-28</td>\n",
       "      <td>4360.0</td>\n",
       "      <td>28-Oct-2021</td>\n",
       "      <td>TCS</td>\n",
       "      <td>OPTSTKTCS28-10-2021PE4360.00</td>\n",
       "      <td>0.0</td>\n",
       "      <td>0.0</td>\n",
       "      <td>0.0</td>\n",
       "      <td>0.0</td>\n",
       "      <td>...</td>\n",
       "      <td>16.50</td>\n",
       "      <td>-0.30</td>\n",
       "      <td>-1.785714</td>\n",
       "      <td>66300.0</td>\n",
       "      <td>68700.0</td>\n",
       "      <td>300.0</td>\n",
       "      <td>16.55</td>\n",
       "      <td>300.0</td>\n",
       "      <td>16.75</td>\n",
       "      <td>3943.0</td>\n",
       "    </tr>\n",
       "  </tbody>\n",
       "</table>\n",
       "<p>90 rows × 40 columns</p>\n",
       "</div>"
      ],
      "text/plain": [
       "     strikePrice  expiryDate  PE.strikePrice PE.expiryDate PE.underlying  \\\n",
       "0           2580  2021-10-28          2580.0   28-Oct-2021           TCS   \n",
       "1           2600  2021-10-28          2600.0   28-Oct-2021           TCS   \n",
       "2           2620  2021-10-28             NaN           NaN           NaN   \n",
       "3           2640  2021-10-28             NaN           NaN           NaN   \n",
       "4           2660  2021-10-28             NaN           NaN           NaN   \n",
       "..           ...         ...             ...           ...           ...   \n",
       "167         4280  2021-10-28          4280.0   28-Oct-2021           TCS   \n",
       "169         4300  2021-10-28          4300.0   28-Oct-2021           TCS   \n",
       "172         4320  2021-10-28          4320.0   28-Oct-2021           TCS   \n",
       "174         4340  2021-10-28          4340.0   28-Oct-2021           TCS   \n",
       "176         4360  2021-10-28          4360.0   28-Oct-2021           TCS   \n",
       "\n",
       "                    PE.identifier  PE.openInterest  PE.changeinOpenInterest  \\\n",
       "0    OPTSTKTCS28-10-2021PE2580.00              0.0                      0.0   \n",
       "1    OPTSTKTCS28-10-2021PE2600.00              0.0                      0.0   \n",
       "2                             NaN              NaN                      NaN   \n",
       "3                             NaN              NaN                      NaN   \n",
       "4                             NaN              NaN                      NaN   \n",
       "..                            ...              ...                      ...   \n",
       "167  OPTSTKTCS28-10-2021PE4280.00              0.0                      0.0   \n",
       "169  OPTSTKTCS28-10-2021PE4300.00              0.0                      0.0   \n",
       "172  OPTSTKTCS28-10-2021PE4320.00              0.0                      0.0   \n",
       "174  OPTSTKTCS28-10-2021PE4340.00              0.0                      0.0   \n",
       "176  OPTSTKTCS28-10-2021PE4360.00              0.0                      0.0   \n",
       "\n",
       "     PE.pchangeinOpenInterest  PE.totalTradedVolume  ...  CE.lastPrice  \\\n",
       "0                         0.0                   0.0  ...          0.00   \n",
       "1                         0.0                   0.0  ...          0.00   \n",
       "2                         NaN                   NaN  ...          0.00   \n",
       "3                         NaN                   NaN  ...          0.00   \n",
       "4                         NaN                   NaN  ...          0.00   \n",
       "..                        ...                   ...  ...           ...   \n",
       "167                       0.0                   0.0  ...         23.90   \n",
       "169                       0.0                   0.0  ...         21.65   \n",
       "172                       0.0                   0.0  ...         19.05   \n",
       "174                       0.0                   0.0  ...         18.55   \n",
       "176                       0.0                   0.0  ...         16.50   \n",
       "\n",
       "     CE.change  CE.pChange  CE.totalBuyQuantity  CE.totalSellQuantity  \\\n",
       "0         0.00    0.000000               6000.0                6000.0   \n",
       "1         0.00    0.000000               6000.0                6000.0   \n",
       "2         0.00    0.000000               6000.0                6000.0   \n",
       "3         0.00    0.000000               6000.0                6000.0   \n",
       "4         0.00    0.000000               6000.0                6000.0   \n",
       "..         ...         ...                  ...                   ...   \n",
       "167       6.10   34.269663              31200.0                6900.0   \n",
       "169      -0.40   -1.814059             134700.0              124800.0   \n",
       "172      -1.25   -6.157635              34500.0               21900.0   \n",
       "174      -0.05   -0.268817              45300.0               31200.0   \n",
       "176      -0.30   -1.785714              66300.0               68700.0   \n",
       "\n",
       "     CE.bidQty  CE.bidprice  CE.askQty  CE.askPrice  CE.underlyingValue  \n",
       "0       6000.0      1223.20     6000.0      1471.60              3943.0  \n",
       "1       6000.0      1201.60     6000.0      1451.65              3943.0  \n",
       "2       6000.0      1185.95     6000.0      1430.00              3943.0  \n",
       "3       6000.0      1166.95     6000.0      1409.35              3943.0  \n",
       "4       6000.0      1168.40     6000.0      1386.40              3943.0  \n",
       "..         ...          ...        ...          ...                 ...  \n",
       "167      300.0        23.55      300.0        24.95              3943.0  \n",
       "169      300.0        21.50      300.0        21.65              3943.0  \n",
       "172      300.0        19.00      300.0        20.45              3943.0  \n",
       "174      300.0        17.60      300.0        18.60              3943.0  \n",
       "176      300.0        16.55      300.0        16.75              3943.0  \n",
       "\n",
       "[90 rows x 40 columns]"
      ]
     },
     "metadata": {},
     "execution_count": 14
    }
   ],
   "metadata": {}
  },
  {
   "cell_type": "code",
   "execution_count": 24,
   "source": [
    "t_data=nse.get_hist('TCS',datetime.date(2020, 1, 1),datetime.date(2021, 4, 20))"
   ],
   "outputs": [
    {
     "output_type": "stream",
     "name": "stderr",
     "text": [
      "DEBUG:urllib3.connectionpool:Starting new HTTPS connection (1): www.nseindia.com:443\n",
      "DEBUG:urllib3.connectionpool:https://www.nseindia.com:443 \"GET / HTTP/1.1\" 200 40991\n",
      "DEBUG:urllib3.connectionpool:https://www.nseindia.com:443 \"GET /api/historical/cm/equity?symbol=TCS&series=%5B%22EQ%22%5D&from=01-01-2020&to=20-04-2020&csv=true HTTP/1.1\" 200 3500\n"
     ]
    }
   ],
   "metadata": {}
  },
  {
   "cell_type": "code",
   "execution_count": 30,
   "source": [
    "t_close=t_data.close"
   ],
   "outputs": [],
   "metadata": {}
  },
  {
   "cell_type": "code",
   "execution_count": 32,
   "source": [
    "t_close.plot()"
   ],
   "outputs": [
    {
     "output_type": "error",
     "ename": "ImportError",
     "evalue": "matplotlib is required for plotting when the default backend \"matplotlib\" is selected.",
     "traceback": [
      "\u001b[0;31m---------------------------------------------------------------------------\u001b[0m",
      "\u001b[0;31mImportError\u001b[0m                               Traceback (most recent call last)",
      "\u001b[0;32m/var/folders/m1/1dmjk5j547n72tmbjz00wy000000gn/T/ipykernel_71151/3677439036.py\u001b[0m in \u001b[0;36m<module>\u001b[0;34m\u001b[0m\n\u001b[0;32m----> 1\u001b[0;31m \u001b[0mt_close\u001b[0m\u001b[0;34m.\u001b[0m\u001b[0mplot\u001b[0m\u001b[0;34m(\u001b[0m\u001b[0;34m)\u001b[0m\u001b[0;34m\u001b[0m\u001b[0;34m\u001b[0m\u001b[0m\n\u001b[0m",
      "\u001b[0;32m~/anaconda3/envs/pyenv/lib/python3.9/site-packages/pandas/plotting/_core.py\u001b[0m in \u001b[0;36m__call__\u001b[0;34m(self, *args, **kwargs)\u001b[0m\n\u001b[1;32m    890\u001b[0m \u001b[0;34m\u001b[0m\u001b[0m\n\u001b[1;32m    891\u001b[0m     \u001b[0;32mdef\u001b[0m \u001b[0m__call__\u001b[0m\u001b[0;34m(\u001b[0m\u001b[0mself\u001b[0m\u001b[0;34m,\u001b[0m \u001b[0;34m*\u001b[0m\u001b[0margs\u001b[0m\u001b[0;34m,\u001b[0m \u001b[0;34m**\u001b[0m\u001b[0mkwargs\u001b[0m\u001b[0;34m)\u001b[0m\u001b[0;34m:\u001b[0m\u001b[0;34m\u001b[0m\u001b[0;34m\u001b[0m\u001b[0m\n\u001b[0;32m--> 892\u001b[0;31m         \u001b[0mplot_backend\u001b[0m \u001b[0;34m=\u001b[0m \u001b[0m_get_plot_backend\u001b[0m\u001b[0;34m(\u001b[0m\u001b[0mkwargs\u001b[0m\u001b[0;34m.\u001b[0m\u001b[0mpop\u001b[0m\u001b[0;34m(\u001b[0m\u001b[0;34m\"backend\"\u001b[0m\u001b[0;34m,\u001b[0m \u001b[0;32mNone\u001b[0m\u001b[0;34m)\u001b[0m\u001b[0;34m)\u001b[0m\u001b[0;34m\u001b[0m\u001b[0;34m\u001b[0m\u001b[0m\n\u001b[0m\u001b[1;32m    893\u001b[0m \u001b[0;34m\u001b[0m\u001b[0m\n\u001b[1;32m    894\u001b[0m         x, y, kind, kwargs = self._get_call_args(\n",
      "\u001b[0;32m~/anaconda3/envs/pyenv/lib/python3.9/site-packages/pandas/plotting/_core.py\u001b[0m in \u001b[0;36m_get_plot_backend\u001b[0;34m(backend)\u001b[0m\n\u001b[1;32m   1812\u001b[0m         \u001b[0;32mreturn\u001b[0m \u001b[0m_backends\u001b[0m\u001b[0;34m[\u001b[0m\u001b[0mbackend\u001b[0m\u001b[0;34m]\u001b[0m\u001b[0;34m\u001b[0m\u001b[0;34m\u001b[0m\u001b[0m\n\u001b[1;32m   1813\u001b[0m \u001b[0;34m\u001b[0m\u001b[0m\n\u001b[0;32m-> 1814\u001b[0;31m     \u001b[0mmodule\u001b[0m \u001b[0;34m=\u001b[0m \u001b[0m_load_backend\u001b[0m\u001b[0;34m(\u001b[0m\u001b[0mbackend\u001b[0m\u001b[0;34m)\u001b[0m\u001b[0;34m\u001b[0m\u001b[0;34m\u001b[0m\u001b[0m\n\u001b[0m\u001b[1;32m   1815\u001b[0m     \u001b[0m_backends\u001b[0m\u001b[0;34m[\u001b[0m\u001b[0mbackend\u001b[0m\u001b[0;34m]\u001b[0m \u001b[0;34m=\u001b[0m \u001b[0mmodule\u001b[0m\u001b[0;34m\u001b[0m\u001b[0;34m\u001b[0m\u001b[0m\n\u001b[1;32m   1816\u001b[0m     \u001b[0;32mreturn\u001b[0m \u001b[0mmodule\u001b[0m\u001b[0;34m\u001b[0m\u001b[0;34m\u001b[0m\u001b[0m\n",
      "\u001b[0;32m~/anaconda3/envs/pyenv/lib/python3.9/site-packages/pandas/plotting/_core.py\u001b[0m in \u001b[0;36m_load_backend\u001b[0;34m(backend)\u001b[0m\n\u001b[1;32m   1752\u001b[0m             \u001b[0mmodule\u001b[0m \u001b[0;34m=\u001b[0m \u001b[0mimportlib\u001b[0m\u001b[0;34m.\u001b[0m\u001b[0mimport_module\u001b[0m\u001b[0;34m(\u001b[0m\u001b[0;34m\"pandas.plotting._matplotlib\"\u001b[0m\u001b[0;34m)\u001b[0m\u001b[0;34m\u001b[0m\u001b[0;34m\u001b[0m\u001b[0m\n\u001b[1;32m   1753\u001b[0m         \u001b[0;32mexcept\u001b[0m \u001b[0mImportError\u001b[0m\u001b[0;34m:\u001b[0m\u001b[0;34m\u001b[0m\u001b[0;34m\u001b[0m\u001b[0m\n\u001b[0;32m-> 1754\u001b[0;31m             raise ImportError(\n\u001b[0m\u001b[1;32m   1755\u001b[0m                 \u001b[0;34m\"matplotlib is required for plotting when the \"\u001b[0m\u001b[0;34m\u001b[0m\u001b[0;34m\u001b[0m\u001b[0m\n\u001b[1;32m   1756\u001b[0m                 \u001b[0;34m'default backend \"matplotlib\" is selected.'\u001b[0m\u001b[0;34m\u001b[0m\u001b[0;34m\u001b[0m\u001b[0m\n",
      "\u001b[0;31mImportError\u001b[0m: matplotlib is required for plotting when the default backend \"matplotlib\" is selected."
     ]
    }
   ],
   "metadata": {}
  },
  {
   "cell_type": "code",
   "execution_count": null,
   "source": [],
   "outputs": [],
   "metadata": {}
  }
 ],
 "metadata": {
  "orig_nbformat": 4,
  "language_info": {
   "name": "python",
   "version": "3.9.7",
   "mimetype": "text/x-python",
   "codemirror_mode": {
    "name": "ipython",
    "version": 3
   },
   "pygments_lexer": "ipython3",
   "nbconvert_exporter": "python",
   "file_extension": ".py"
  },
  "kernelspec": {
   "name": "python3",
   "display_name": "Python 3.9.7 64-bit ('pyenv': conda)"
  },
  "interpreter": {
   "hash": "7b292b29c05df4d4bf208022de99f17280f1f2eb361e523efd663d0537150746"
  }
 },
 "nbformat": 4,
 "nbformat_minor": 2
}